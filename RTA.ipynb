{
 "cells": [
  {
   "cell_type": "code",
   "execution_count": 5,
   "id": "8289143f-6d33-4913-854c-853097d15a28",
   "metadata": {
    "scrolled": true
   },
   "outputs": [
    {
     "name": "stdout",
     "output_type": "stream",
     "text": [
      "Overwriting app.py\n"
     ]
    }
   ],
   "source": [
    "%%file app.py\n",
    "\n",
    "from flask import Flask\n",
    "from flask import request\n",
    "\n",
    "app = Flask(__name__)\n",
    "\n",
    "@app.route(\"/api/v1.0/predict\", methods=['GET'])\n",
    "def wyznaczenie_predykcji():\n",
    "    num1 = float(request.args.get(\"num1\", 0))\n",
    "    num2 = float(request.args.get(\"num2\", 0))\n",
    "\n",
    "    if sum([num1, num2]) > 5.8:\n",
    "        wartość_predykcji = 1\n",
    "    else:\n",
    "        wartość_predykcji = 0\n",
    "\n",
    "    return {\"prediction\": wartość_predykcji, \"features\": {\"num1\": num1, \"num2\": num2}}\n",
    "\n",
    "if __name__ == '__main__':\n",
    "    app.run(port=5001)\n"
   ]
  },
  {
   "cell_type": "code",
   "execution_count": 7,
   "id": "dd6f6db8-8ee0-4513-ac8f-a8cc681b41e9",
   "metadata": {},
   "outputs": [
    {
     "name": "stdout",
     "output_type": "stream",
     "text": [
      "{'features': {'num1': 3.0, 'num2': 4.0}, 'prediction': 1}\n"
     ]
    }
   ],
   "source": [
    "import requests\n",
    "res = requests.get(\"http://127.0.0.1:5001/api/v1.0/predict?num1=3&num2=4\")\n",
    "print(res.json())"
   ]
  },
  {
   "cell_type": "code",
   "execution_count": 9,
   "id": "464a4f98-3bbc-4a61-888b-9a60bd838c06",
   "metadata": {},
   "outputs": [
    {
     "name": "stdout",
     "output_type": "stream",
     "text": [
      "Writing Dockerfile\n"
     ]
    }
   ],
   "source": [
    "%%file Dockerfile\n",
    "FROM python:3.11-slim-buster\n",
    "\n",
    "WORKDIR /app\n",
    "\n",
    "COPY requirements.txt requirements.txt\n",
    "\n",
    "RUN pip install -r requirements.txt\n",
    "\n",
    "COPY app.py .\n",
    "\n",
    "ENV FLASK_APP=app\n",
    "\n",
    "EXPOSE 5001\n",
    "CMD [\"flask\", \"run\", \"--host\", \"0.0.0.0\", \"--port\", \"5001\"]"
   ]
  },
  {
   "cell_type": "code",
   "execution_count": null,
   "id": "dbc8856a-52e4-4d52-9af1-354f69f59a2d",
   "metadata": {},
   "outputs": [],
   "source": []
  }
 ],
 "metadata": {
  "kernelspec": {
   "display_name": "Python [conda env:base] *",
   "language": "python",
   "name": "conda-base-py"
  },
  "language_info": {
   "codemirror_mode": {
    "name": "ipython",
    "version": 3
   },
   "file_extension": ".py",
   "mimetype": "text/x-python",
   "name": "python",
   "nbconvert_exporter": "python",
   "pygments_lexer": "ipython3",
   "version": "3.12.4"
  }
 },
 "nbformat": 4,
 "nbformat_minor": 5
}
